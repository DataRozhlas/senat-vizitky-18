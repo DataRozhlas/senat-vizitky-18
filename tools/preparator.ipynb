{
 "cells": [
  {
   "cell_type": "code",
   "execution_count": 27,
   "metadata": {},
   "outputs": [],
   "source": [
    "import pandas as pd\n",
    "import json"
   ]
  },
  {
   "cell_type": "code",
   "execution_count": 35,
   "metadata": {},
   "outputs": [],
   "source": [
    "serk = pd.read_excel('./vizitky.xlsx')"
   ]
  },
  {
   "cell_type": "code",
   "execution_count": 36,
   "metadata": {},
   "outputs": [],
   "source": [
    "serk.poznamka.fillna('', inplace=True)\n",
    "serk.zvuk.fillna('', inplace=True)"
   ]
  },
  {
   "cell_type": "code",
   "execution_count": 37,
   "metadata": {},
   "outputs": [],
   "source": [
    "out = {}\n",
    "for kand in serk.values:\n",
    "    if kand[0] not in out:\n",
    "        out[kand[0]] = {}\n",
    "    out[kand[0]][kand[1]] = {\n",
    "        'jmeno': kand[3] + ' ' + kand[4],\n",
    "        'povolani': kand[8],\n",
    "        'partaj': kand[25],\n",
    "        'file': kand[26],\n",
    "        'afile': kand[27],\n",
    "        'pozn': kand[28]\n",
    "    }"
   ]
  },
  {
   "cell_type": "code",
   "execution_count": 38,
   "metadata": {},
   "outputs": [],
   "source": [
    "with open('../js/data.js', 'w', encoding='utf-8') as f:\n",
    "    f.write('var data = ' + json.dumps(out) + ';')"
   ]
  }
 ],
 "metadata": {
  "kernelspec": {
   "display_name": "Python 3",
   "language": "python",
   "name": "python3"
  },
  "language_info": {
   "codemirror_mode": {
    "name": "ipython",
    "version": 3
   },
   "file_extension": ".py",
   "mimetype": "text/x-python",
   "name": "python",
   "nbconvert_exporter": "python",
   "pygments_lexer": "ipython3",
   "version": "3.6.5"
  }
 },
 "nbformat": 4,
 "nbformat_minor": 2
}
