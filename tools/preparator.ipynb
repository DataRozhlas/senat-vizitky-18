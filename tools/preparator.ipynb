{
 "cells": [
  {
   "cell_type": "code",
   "execution_count": 7,
   "metadata": {},
   "outputs": [],
   "source": [
    "import pandas as pd\n",
    "import json\n",
    "import os\n",
    "import numpy as np"
   ]
  },
  {
   "cell_type": "code",
   "execution_count": 2,
   "metadata": {},
   "outputs": [],
   "source": [
    "serk = pd.read_excel('./vizitky.xlsx')"
   ]
  },
  {
   "cell_type": "code",
   "execution_count": 3,
   "metadata": {},
   "outputs": [],
   "source": [
    "serk.poznamka.fillna('', inplace=True)\n",
    "serk.zvuk.fillna('', inplace=True)"
   ]
  },
  {
   "cell_type": "code",
   "execution_count": 4,
   "metadata": {},
   "outputs": [],
   "source": [
    "out = {}\n",
    "for kand in serk.values:\n",
    "    if kand[0] not in out:\n",
    "        out[kand[0]] = {}\n",
    "    out[kand[0]][kand[1]] = {\n",
    "        'jmeno': kand[3] + ' ' + kand[4],\n",
    "        'povolani': kand[8],\n",
    "        'partaj': kand[25],\n",
    "        'file': kand[26],\n",
    "        'afile': kand[27],\n",
    "        'pozn': kand[28]\n",
    "    }"
   ]
  },
  {
   "cell_type": "code",
   "execution_count": 8,
   "metadata": {},
   "outputs": [
    {
     "data": {
      "text/plain": [
       "array([ 2,  5,  8, 11, 14, 17, 20, 23, 26, 29, 32, 35, 38, 41, 44, 47, 50,\n",
       "       53, 56, 59, 62, 65, 68, 71, 74, 77, 80])"
      ]
     },
     "execution_count": 8,
     "metadata": {},
     "output_type": "execute_result"
    }
   ],
   "source": [
    "done = []\n",
    "for fle in os.listdir('../media/foto'):\n",
    "    try:\n",
    "        done.append(int(fle.split('_')[0]))\n",
    "    except:\n",
    "        pass\n",
    "\n",
    "\n",
    "np.unique(done)"
   ]
  },
  {
   "cell_type": "code",
   "execution_count": 5,
   "metadata": {},
   "outputs": [],
   "source": [
    "with open('../js/data.js', 'w', encoding='utf-8') as f:\n",
    "    f.write('var data = ' + json.dumps(out) + ';')"
   ]
  }
 ],
 "metadata": {
  "kernelspec": {
   "display_name": "Python 3",
   "language": "python",
   "name": "python3"
  },
  "language_info": {
   "codemirror_mode": {
    "name": "ipython",
    "version": 3
   },
   "file_extension": ".py",
   "mimetype": "text/x-python",
   "name": "python",
   "nbconvert_exporter": "python",
   "pygments_lexer": "ipython3",
   "version": "3.6.5"
  }
 },
 "nbformat": 4,
 "nbformat_minor": 2
}
