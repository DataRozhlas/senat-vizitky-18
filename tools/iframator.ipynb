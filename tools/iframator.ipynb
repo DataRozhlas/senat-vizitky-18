{
 "cells": [
  {
   "cell_type": "code",
   "execution_count": 1,
   "metadata": {},
   "outputs": [],
   "source": [
    "import pandas as pd\n",
    "import json\n",
    "import os\n",
    "import numpy as np"
   ]
  },
  {
   "cell_type": "code",
   "execution_count": 2,
   "metadata": {},
   "outputs": [],
   "source": [
    "serk = pd.read_excel('./vizitky.xlsx')"
   ]
  },
  {
   "cell_type": "code",
   "execution_count": 23,
   "metadata": {},
   "outputs": [],
   "source": [
    "out = '<!DOCTYPE html><meta charset=\"UTF-8\">'\n",
    "for k in serk.to_dict(orient='index').values():\n",
    "    out += '<h2 id=\"' + str(k['OBVOD']) + '_' + str(k['CKAND']) + '\">' + k['JMENO'] + ' ' + k['PRIJMENI'] \\\n",
    "    + ' (' + k['NAZEV_VS'] + '), kandidát č. ' + str(k['CKAND']) + ', obvod ' + str(k['OBVOD']) \\\n",
    "    + '</h2>Kód pro vložení do stránky:<br> <textarea style=\"width: 100%; min-height: 20px\" disabled><iframe name=\"kandidat-na-senatora\" src=\"https://www.irozhlas.cz/volby/senatni-volby-2018/kandidati-vizitky/kandidat-na-senatora?' + str(k['OBVOD']) + '_' + str(k['CKAND']) + '\" width=\"100%\" height=\"239\"></iframe></textarea>'"
   ]
  },
  {
   "cell_type": "code",
   "execution_count": 24,
   "metadata": {},
   "outputs": [],
   "source": [
    "with open('../iframes.html', 'w', encoding='utf-8') as f:\n",
    "    f.write(out)"
   ]
  }
 ],
 "metadata": {
  "kernelspec": {
   "display_name": "Python 3",
   "language": "python",
   "name": "python3"
  },
  "language_info": {
   "codemirror_mode": {
    "name": "ipython",
    "version": 3
   },
   "file_extension": ".py",
   "mimetype": "text/x-python",
   "name": "python",
   "nbconvert_exporter": "python",
   "pygments_lexer": "ipython3",
   "version": "3.6.5"
  }
 },
 "nbformat": 4,
 "nbformat_minor": 2
}
